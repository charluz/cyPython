{
 "cells": [
  {
   "cell_type": "code",
   "execution_count": 32,
   "metadata": {},
   "outputs": [
    {
     "data": {
      "text/plain": [
       "u'\\nProvides a MATLAB-like plotting framework.\\n\\n:mod:`~matplotlib.pylab` combines pyplot with numpy into a single namespace.\\nThis is convenient for interactive work, but for programming it\\nis recommended that the namespaces be kept separate, e.g.::\\n\\n    import numpy as np\\n    import matplotlib.pyplot as plt\\n\\n    x = np.arange(0, 5, 0.1);\\n    y = np.sin(x)\\n    plt.plot(x, y)\\n\\n'"
      ]
     },
     "execution_count": 32,
     "metadata": {},
     "output_type": "execute_result"
    }
   ],
   "source": [
    "import numpy as np\n",
    "import matplotlib.pyplot as plt\n",
    "%matplotlib inline\n",
    "\n",
    "img = np.zeros([6,8,3], np.uint8)\n",
    "img\n",
    "img.shape, type(img)\n",
    "plt\n",
    "#plt.imshow(img, interpolation='none')"
   ]
  }
 ],
 "metadata": {
  "kernelspec": {
   "display_name": "Python 2",
   "language": "python",
   "name": "python2"
  },
  "language_info": {
   "codemirror_mode": {
    "name": "ipython",
    "version": 2
   },
   "file_extension": ".py",
   "mimetype": "text/x-python",
   "name": "python",
   "nbconvert_exporter": "python",
   "pygments_lexer": "ipython2",
   "version": "2.7.15"
  }
 },
 "nbformat": 4,
 "nbformat_minor": 2
}
